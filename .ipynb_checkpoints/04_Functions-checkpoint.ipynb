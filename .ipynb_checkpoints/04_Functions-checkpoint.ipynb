{
 "cells": [
  {
   "cell_type": "markdown",
   "metadata": {},
   "source": [
    "### FUNDAMENTAL PYTHON NOTES: Functions\n",
    "#### Created by Ugur URESIN, AI Engineer, Data Scientist"
   ]
  },
  {
   "cell_type": "markdown",
   "metadata": {},
   "source": [
    "### FUNCTIONS"
   ]
  },
  {
   "cell_type": "markdown",
   "metadata": {},
   "source": [
    "#### DEFINING A FUNCTION"
   ]
  },
  {
   "cell_type": "markdown",
   "metadata": {},
   "source": [
    "**Function Name:** cylinder_volume<br>\n",
    "**Arguments or Parameters:** height, radius"
   ]
  },
  {
   "cell_type": "code",
   "execution_count": 3,
   "metadata": {},
   "outputs": [],
   "source": [
    "def cylinder_volume (height,radius): #function header\n",
    "    pi = 3.1415                      #function body\n",
    "    return height*pi*radius**2       #return value"
   ]
  },
  {
   "cell_type": "markdown",
   "metadata": {},
   "source": [
    "In the above function 'pi' is a **local varible** and it can not be modified or used outside of the function!<br>\n",
    "For example, if we want to print to 'pi', we would get an error as follows!"
   ]
  },
  {
   "cell_type": "code",
   "execution_count": 4,
   "metadata": {},
   "outputs": [
    {
     "ename": "NameError",
     "evalue": "name 'pi' is not defined",
     "output_type": "error",
     "traceback": [
      "\u001b[1;31m---------------------------------------------------------------------------\u001b[0m",
      "\u001b[1;31mNameError\u001b[0m                                 Traceback (most recent call last)",
      "\u001b[1;32m<ipython-input-4-9e2d2bd32686>\u001b[0m in \u001b[0;36m<module>\u001b[1;34m\u001b[0m\n\u001b[1;32m----> 1\u001b[1;33m \u001b[0mprint\u001b[0m\u001b[1;33m(\u001b[0m\u001b[0mpi\u001b[0m\u001b[1;33m)\u001b[0m\u001b[1;33m\u001b[0m\u001b[1;33m\u001b[0m\u001b[0m\n\u001b[0m",
      "\u001b[1;31mNameError\u001b[0m: name 'pi' is not defined"
     ]
    }
   ],
   "source": [
    "print(pi)"
   ]
  },
  {
   "cell_type": "code",
   "execution_count": 5,
   "metadata": {},
   "outputs": [
    {
     "data": {
      "text/plain": [
       "785.3750000000001"
      ]
     },
     "execution_count": 5,
     "metadata": {},
     "output_type": "execute_result"
    }
   ],
   "source": [
    "## Example: CALCULATE THE CYLINDER VOLUME WHEN height=10 and radius=5\n",
    "cylinder_volume(10,5)"
   ]
  },
  {
   "cell_type": "markdown",
   "metadata": {},
   "source": [
    "**Note that:** Python does NOT allow functions to modify variables that are outside the function's scope!"
   ]
  },
  {
   "cell_type": "markdown",
   "metadata": {},
   "source": [
    "#### DEFAULT ARGUMENTS"
   ]
  },
  {
   "cell_type": "markdown",
   "metadata": {},
   "source": [
    "Let's define the same function as above <br>\n",
    "**Function Name:** cylinder_volume<br>\n",
    "**Arguments or Parameters:** height, radius<br>\n",
    "<br>\n",
    "Here, we would like to assign a default value for the radius!"
   ]
  },
  {
   "cell_type": "code",
   "execution_count": 6,
   "metadata": {},
   "outputs": [],
   "source": [
    "def cylinder_volume2 (height,radius=5): #function header\n",
    "    pi = 3.1415                         #function body\n",
    "    return height*pi*radius**2          #return value"
   ]
  },
  {
   "cell_type": "code",
   "execution_count": 7,
   "metadata": {},
   "outputs": [
    {
     "data": {
      "text/plain": [
       "785.3750000000001"
      ]
     },
     "execution_count": 7,
     "metadata": {},
     "output_type": "execute_result"
    }
   ],
   "source": [
    "cylinder_volume2(10)"
   ]
  },
  {
   "cell_type": "markdown",
   "metadata": {},
   "source": [
    "Even if one of the arguments is a **default argument** user still can use another value!"
   ]
  },
  {
   "cell_type": "code",
   "execution_count": 8,
   "metadata": {},
   "outputs": [
    {
     "data": {
      "text/plain": [
       "125.66000000000001"
      ]
     },
     "execution_count": 8,
     "metadata": {},
     "output_type": "execute_result"
    }
   ],
   "source": [
    "cylinder_volume2(10,2)"
   ]
  },
  {
   "cell_type": "markdown",
   "metadata": {},
   "source": [
    "#### DOCUMENTATION STRINGS (DOCSTRING)"
   ]
  },
  {
   "cell_type": "markdown",
   "metadata": {},
   "source": [
    "DOCSTRING is quite useful especially when a group of people (or a team) is working for the same project!<br>\n",
    "Thanks to DOCSTRING's each member of the team can understand the purpose of a function which is created by another team member!<br>\n",
    "An explanatory example is given below:"
   ]
  },
  {
   "cell_type": "code",
   "execution_count": 9,
   "metadata": {},
   "outputs": [],
   "source": [
    "def myfunc1(arg1, arg2):\n",
    "    \"\"\"Explanation for this function is given here\n",
    "    Arg1 means ...\n",
    "    Arg2 means ...\"\"\"\n",
    "    return value"
   ]
  },
  {
   "cell_type": "markdown",
   "metadata": {},
   "source": [
    "### MAP - REDUCE - LAMBDA"
   ]
  },
  {
   "cell_type": "markdown",
   "metadata": {},
   "source": [
    "**Lambda expressions**: Anonymous functions with no names and they are mostly created by using built-in functions e.g. sum()  \n",
    "\n",
    "**map()**: is a higher order built-in function that takes a function & iterable as inputs, and returns an integer that applies the function to each element of the iterable!"
   ]
  },
  {
   "cell_type": "markdown",
   "metadata": {},
   "source": [
    "#### LAMBDA EXPRESSIONS"
   ]
  },
  {
   "cell_type": "code",
   "execution_count": 10,
   "metadata": {},
   "outputs": [],
   "source": [
    "## DOUBLE FUNCTION\n",
    "def double(x):\n",
    "    return x*2"
   ]
  },
  {
   "cell_type": "code",
   "execution_count": 11,
   "metadata": {},
   "outputs": [],
   "source": [
    "## DOUBLE as a LAMBDA EXPRESSION\n",
    "double = lambda x: x*2"
   ]
  },
  {
   "cell_type": "markdown",
   "metadata": {},
   "source": [
    "Variable name does not have to be 'x'."
   ]
  },
  {
   "cell_type": "code",
   "execution_count": 19,
   "metadata": {},
   "outputs": [
    {
     "data": {
      "text/plain": [
       "8"
      ]
     },
     "execution_count": 19,
     "metadata": {},
     "output_type": "execute_result"
    }
   ],
   "source": [
    "double = lambda num: num*2\n",
    "double(4)"
   ]
  },
  {
   "cell_type": "code",
   "execution_count": 18,
   "metadata": {},
   "outputs": [
    {
     "data": {
      "text/plain": [
       "6"
      ]
     },
     "execution_count": 18,
     "metadata": {},
     "output_type": "execute_result"
    }
   ],
   "source": [
    "## MULTIPLIER FUNCTION\n",
    "def multiplier(x,y):\n",
    "    return x*y\n",
    "\n",
    "multiplier(2,3)"
   ]
  },
  {
   "cell_type": "code",
   "execution_count": 17,
   "metadata": {},
   "outputs": [
    {
     "data": {
      "text/plain": [
       "20"
      ]
     },
     "execution_count": 17,
     "metadata": {},
     "output_type": "execute_result"
    }
   ],
   "source": [
    "multiplier = lambda x,y: x*y\n",
    "multiplier(4,5)"
   ]
  },
  {
   "cell_type": "markdown",
   "metadata": {},
   "source": [
    "#### THE map FUNCTION"
   ]
  },
  {
   "cell_type": "code",
   "execution_count": 20,
   "metadata": {},
   "outputs": [],
   "source": [
    "## EXAMPLE\n",
    "import math\n",
    "\n",
    "def circle_area(radius):\n",
    "    \"\"\"Calculates area of a circle with given radius\"\"\"\n",
    "    return math.pi*(radius**2)"
   ]
  },
  {
   "cell_type": "markdown",
   "metadata": {},
   "source": [
    "Here, we would like to calculates the areas for given 10 radius values!"
   ]
  },
  {
   "cell_type": "code",
   "execution_count": 21,
   "metadata": {},
   "outputs": [],
   "source": [
    "radii = [1, 1.2, 2, 3, 3.6, 4, 4.8, 5, 5.2, 6]"
   ]
  },
  {
   "cell_type": "code",
   "execution_count": 22,
   "metadata": {},
   "outputs": [
    {
     "data": {
      "text/plain": [
       "[3.141592653589793,\n",
       " 4.523893421169302,\n",
       " 12.566370614359172,\n",
       " 28.274333882308138,\n",
       " 40.71504079052372,\n",
       " 50.26548245743669,\n",
       " 72.38229473870884,\n",
       " 78.53981633974483,\n",
       " 84.94866535306801,\n",
       " 113.09733552923255]"
      ]
     },
     "execution_count": 22,
     "metadata": {},
     "output_type": "execute_result"
    }
   ],
   "source": [
    "## METHOD-1: ITERATING WITH A FOR LOOP\n",
    "circle_areas = []\n",
    "\n",
    "for r in radii:\n",
    "    area = circle_area(r)\n",
    "    circle_areas.append(area)\n",
    "\n",
    "circle_areas"
   ]
  },
  {
   "cell_type": "code",
   "execution_count": 23,
   "metadata": {},
   "outputs": [
    {
     "data": {
      "text/plain": [
       "<map at 0x7f9bd30>"
      ]
     },
     "execution_count": 23,
     "metadata": {},
     "output_type": "execute_result"
    }
   ],
   "source": [
    "## METHOD-2: map() FUNCTION\n",
    "## The format is map(function,iterable)\n",
    "map(circle_area, radii)"
   ]
  },
  {
   "cell_type": "markdown",
   "metadata": {},
   "source": [
    "The output is not a list, it's a map object!"
   ]
  },
  {
   "cell_type": "code",
   "execution_count": 24,
   "metadata": {},
   "outputs": [
    {
     "data": {
      "text/plain": [
       "[3.141592653589793,\n",
       " 4.523893421169302,\n",
       " 12.566370614359172,\n",
       " 28.274333882308138,\n",
       " 40.71504079052372,\n",
       " 50.26548245743669,\n",
       " 72.38229473870884,\n",
       " 78.53981633974483,\n",
       " 84.94866535306801,\n",
       " 113.09733552923255]"
      ]
     },
     "execution_count": 24,
     "metadata": {},
     "output_type": "execute_result"
    }
   ],
   "source": [
    "list(map(circle_area, radii))"
   ]
  },
  {
   "cell_type": "code",
   "execution_count": 25,
   "metadata": {},
   "outputs": [
    {
     "data": {
      "text/plain": [
       "[4.0, 7.0, 8.0]"
      ]
     },
     "execution_count": 25,
     "metadata": {},
     "output_type": "execute_result"
    }
   ],
   "source": [
    "## EXAMPLE-2\n",
    "numbers = [[2,4,6],\n",
    "           [6,6,9],\n",
    "           [7,8,9]]\n",
    "\n",
    "list(map(lambda x: sum(x)/len(x), numbers))"
   ]
  },
  {
   "cell_type": "markdown",
   "metadata": {},
   "source": [
    "#### LAMBDA EXPRESSIONS WITH FILTER"
   ]
  },
  {
   "cell_type": "markdown",
   "metadata": {},
   "source": [
    "filter is a higher-order built in function that takes a function and itertable as inputs and returns an iterator with the elements from the iterable for which the function returns TRUE!"
   ]
  },
  {
   "cell_type": "code",
   "execution_count": 26,
   "metadata": {},
   "outputs": [
    {
     "name": "stdout",
     "output_type": "stream",
     "text": [
      "['Berlin', 'Paris', 'Istanbul', 'Guangzhou']\n"
     ]
    }
   ],
   "source": [
    "## EXAMPLE\n",
    "city_list = ['New York City', 'Berlin', 'Paris', 'Istanbul', 'Los Angeles', 'Mexico City', 'Guangzhou']\n",
    "\n",
    "def is_short(name):\n",
    "    return len(name)<10\n",
    "\n",
    "short_cities = list(filter(is_short, city_list))\n",
    "print(short_cities)"
   ]
  },
  {
   "cell_type": "code",
   "execution_count": null,
   "metadata": {},
   "outputs": [],
   "source": []
  }
 ],
 "metadata": {
  "kernelspec": {
   "display_name": "Python 3",
   "language": "python",
   "name": "python3"
  },
  "language_info": {
   "codemirror_mode": {
    "name": "ipython",
    "version": 3
   },
   "file_extension": ".py",
   "mimetype": "text/x-python",
   "name": "python",
   "nbconvert_exporter": "python",
   "pygments_lexer": "ipython3",
   "version": "3.7.3"
  }
 },
 "nbformat": 4,
 "nbformat_minor": 2
}
